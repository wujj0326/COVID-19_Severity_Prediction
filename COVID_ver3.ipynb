{
  "nbformat": 4,
  "nbformat_minor": 0,
  "metadata": {
    "colab": {
      "name": "COVID_ver3.ipynb",
      "provenance": [],
      "toc_visible": true
    },
    "kernelspec": {
      "name": "python3",
      "display_name": "Python 3"
    }
  },
  "cells": [
    {
      "cell_type": "markdown",
      "metadata": {
        "id": "q8SJZx1NiBTb",
        "colab_type": "text"
      },
      "source": [
        "# COVID Severity Prediction"
      ]
    },
    {
      "cell_type": "markdown",
      "metadata": {
        "id": "WhVQAKOOiGVa",
        "colab_type": "text"
      },
      "source": [
        "## Import Packages and Read Data"
      ]
    },
    {
      "cell_type": "code",
      "metadata": {
        "id": "S59jtuTbQ_Dr",
        "colab_type": "code",
        "colab": {}
      },
      "source": [
        "import pandas as pd\n",
        "import numpy as np\n",
        "import matplotlib.pyplot as plt\n",
        "import seaborn as sns\n",
        "plt.style.use('ggplot')\n",
        "from sklearn import preprocessing, metrics\n",
        "from sklearn.tree import DecisionTreeClassifier\n",
        "from sklearn.ensemble import RandomForestClassifier\n",
        "from sklearn.linear_model import LogisticRegression\n",
        "from sklearn.neighbors import KNeighborsClassifier\n",
        "from sklearn.ensemble import GradientBoostingClassifier\n",
        "from sklearn.naive_bayes import GaussianNB\n",
        "from sklearn.cluster import KMeans\n",
        "from sklearn.model_selection import GridSearchCV, RandomizedSearchCV\n",
        "from sklearn.preprocessing import LabelEncoder\n",
        "from sklearn.metrics import accuracy_score, roc_curve, roc_auc_score, confusion_matrix, classification_report\n",
        "from sklearn.model_selection import train_test_split \n",
        "from sklearn.svm import SVC \n",
        "from sklearn.model_selection import cross_val_score,cross_val_predict\n",
        "from sklearn.multiclass import OneVsRestClassifier\n",
        "from sklearn.preprocessing import LabelBinarizer"
      ],
      "execution_count": 0,
      "outputs": []
    },
    {
      "cell_type": "code",
      "metadata": {
        "id": "OLVFFDAsRU3o",
        "colab_type": "code",
        "outputId": "60a643b0-54fb-4d06-f3a7-66a28dee1065",
        "colab": {
          "base_uri": "https://localhost:8080/",
          "height": 484
        }
      },
      "source": [
        "df = pd.read_csv('covid_sym.csv')\n",
        "df.head()\n",
        "# https://raw.githubusercontent.com/elisabethgwebb/COVID/master/covid_sym.csv"
      ],
      "execution_count": 0,
      "outputs": [
        {
          "output_type": "execute_result",
          "data": {
            "text/html": [
              "<div>\n",
              "<style scoped>\n",
              "    .dataframe tbody tr th:only-of-type {\n",
              "        vertical-align: middle;\n",
              "    }\n",
              "\n",
              "    .dataframe tbody tr th {\n",
              "        vertical-align: top;\n",
              "    }\n",
              "\n",
              "    .dataframe thead th {\n",
              "        text-align: right;\n",
              "    }\n",
              "</style>\n",
              "<table border=\"1\" class=\"dataframe\">\n",
              "  <thead>\n",
              "    <tr style=\"text-align: right;\">\n",
              "      <th></th>\n",
              "      <th>age</th>\n",
              "      <th>age_0-9</th>\n",
              "      <th>age_10-19</th>\n",
              "      <th>age_20-29</th>\n",
              "      <th>age_30-39</th>\n",
              "      <th>age_40-49</th>\n",
              "      <th>age_50-59</th>\n",
              "      <th>age_60-69</th>\n",
              "      <th>age_70-79</th>\n",
              "      <th>age_80+</th>\n",
              "      <th>background_diseases_binary</th>\n",
              "      <th>city</th>\n",
              "      <th>confirmed_date</th>\n",
              "      <th>country</th>\n",
              "      <th>date_onset_symptoms</th>\n",
              "      <th>region</th>\n",
              "      <th>severity_illness</th>\n",
              "      <th>severity_level</th>\n",
              "      <th>sex</th>\n",
              "      <th>symptoms</th>\n",
              "      <th>no_symptom</th>\n",
              "      <th>diarrhea</th>\n",
              "      <th>myalgia</th>\n",
              "      <th>fever</th>\n",
              "      <th>respiratory infection</th>\n",
              "      <th>cough</th>\n",
              "      <th>fatigue</th>\n",
              "      <th>hypoxia</th>\n",
              "      <th>weakness</th>\n",
              "      <th>chills</th>\n",
              "      <th>septic shock</th>\n",
              "      <th>respiratory failure</th>\n",
              "      <th>sepsis</th>\n",
              "      <th>pneumonia</th>\n",
              "      <th>breathing difficulty</th>\n",
              "      <th>treatment</th>\n",
              "      <th>treatment_binary</th>\n",
              "    </tr>\n",
              "  </thead>\n",
              "  <tbody>\n",
              "    <tr>\n",
              "      <th>0</th>\n",
              "      <td>35</td>\n",
              "      <td>0</td>\n",
              "      <td>0</td>\n",
              "      <td>0</td>\n",
              "      <td>1</td>\n",
              "      <td>0</td>\n",
              "      <td>0</td>\n",
              "      <td>0</td>\n",
              "      <td>0</td>\n",
              "      <td>0</td>\n",
              "      <td>1</td>\n",
              "      <td>Snohomish County</td>\n",
              "      <td>43850.0</td>\n",
              "      <td>united states</td>\n",
              "      <td>43846.0</td>\n",
              "      <td>Washington</td>\n",
              "      <td>NaN</td>\n",
              "      <td>FALSE</td>\n",
              "      <td>male</td>\n",
              "      <td>cough fever nausea</td>\n",
              "      <td>0</td>\n",
              "      <td>0</td>\n",
              "      <td>0</td>\n",
              "      <td>1</td>\n",
              "      <td>0</td>\n",
              "      <td>1</td>\n",
              "      <td>0</td>\n",
              "      <td>0</td>\n",
              "      <td>0</td>\n",
              "      <td>0</td>\n",
              "      <td>0</td>\n",
              "      <td>0</td>\n",
              "      <td>0</td>\n",
              "      <td>0</td>\n",
              "      <td>0</td>\n",
              "      <td>NaN</td>\n",
              "      <td>0</td>\n",
              "    </tr>\n",
              "    <tr>\n",
              "      <th>1</th>\n",
              "      <td>35</td>\n",
              "      <td>0</td>\n",
              "      <td>0</td>\n",
              "      <td>0</td>\n",
              "      <td>1</td>\n",
              "      <td>0</td>\n",
              "      <td>0</td>\n",
              "      <td>0</td>\n",
              "      <td>0</td>\n",
              "      <td>0</td>\n",
              "      <td>1</td>\n",
              "      <td>Snohomish County</td>\n",
              "      <td>43850.0</td>\n",
              "      <td>united states</td>\n",
              "      <td>43846.0</td>\n",
              "      <td>Washington</td>\n",
              "      <td>NaN</td>\n",
              "      <td>FALSE</td>\n",
              "      <td>male</td>\n",
              "      <td>cough fever nausea</td>\n",
              "      <td>0</td>\n",
              "      <td>0</td>\n",
              "      <td>0</td>\n",
              "      <td>1</td>\n",
              "      <td>0</td>\n",
              "      <td>1</td>\n",
              "      <td>0</td>\n",
              "      <td>0</td>\n",
              "      <td>0</td>\n",
              "      <td>0</td>\n",
              "      <td>0</td>\n",
              "      <td>0</td>\n",
              "      <td>0</td>\n",
              "      <td>0</td>\n",
              "      <td>0</td>\n",
              "      <td>NaN</td>\n",
              "      <td>0</td>\n",
              "    </tr>\n",
              "    <tr>\n",
              "      <th>2</th>\n",
              "      <td>62</td>\n",
              "      <td>0</td>\n",
              "      <td>0</td>\n",
              "      <td>0</td>\n",
              "      <td>0</td>\n",
              "      <td>0</td>\n",
              "      <td>0</td>\n",
              "      <td>1</td>\n",
              "      <td>0</td>\n",
              "      <td>0</td>\n",
              "      <td>1</td>\n",
              "      <td>Cainta, Rizal</td>\n",
              "      <td>43895.0</td>\n",
              "      <td>philippines</td>\n",
              "      <td>43886.0</td>\n",
              "      <td>NaN</td>\n",
              "      <td>deceased</td>\n",
              "      <td>4</td>\n",
              "      <td>male</td>\n",
              "      <td>pneumonia breathing difficulty cough</td>\n",
              "      <td>0</td>\n",
              "      <td>0</td>\n",
              "      <td>0</td>\n",
              "      <td>0</td>\n",
              "      <td>0</td>\n",
              "      <td>0</td>\n",
              "      <td>0</td>\n",
              "      <td>0</td>\n",
              "      <td>0</td>\n",
              "      <td>0</td>\n",
              "      <td>0</td>\n",
              "      <td>0</td>\n",
              "      <td>0</td>\n",
              "      <td>1</td>\n",
              "      <td>1</td>\n",
              "      <td>hospital</td>\n",
              "      <td>1</td>\n",
              "    </tr>\n",
              "    <tr>\n",
              "      <th>3</th>\n",
              "      <td>59</td>\n",
              "      <td>0</td>\n",
              "      <td>0</td>\n",
              "      <td>0</td>\n",
              "      <td>0</td>\n",
              "      <td>0</td>\n",
              "      <td>1</td>\n",
              "      <td>0</td>\n",
              "      <td>0</td>\n",
              "      <td>0</td>\n",
              "      <td>1</td>\n",
              "      <td>Cainta, Rizal</td>\n",
              "      <td>43896.0</td>\n",
              "      <td>philippines</td>\n",
              "      <td>43888.0</td>\n",
              "      <td>NaN</td>\n",
              "      <td>deceased</td>\n",
              "      <td>4</td>\n",
              "      <td>female</td>\n",
              "      <td>cough  pneumonia breathing difficulty</td>\n",
              "      <td>0</td>\n",
              "      <td>0</td>\n",
              "      <td>0</td>\n",
              "      <td>0</td>\n",
              "      <td>0</td>\n",
              "      <td>1</td>\n",
              "      <td>0</td>\n",
              "      <td>0</td>\n",
              "      <td>0</td>\n",
              "      <td>0</td>\n",
              "      <td>0</td>\n",
              "      <td>0</td>\n",
              "      <td>0</td>\n",
              "      <td>1</td>\n",
              "      <td>1</td>\n",
              "      <td>hospital</td>\n",
              "      <td>1</td>\n",
              "    </tr>\n",
              "    <tr>\n",
              "      <th>4</th>\n",
              "      <td>86</td>\n",
              "      <td>0</td>\n",
              "      <td>0</td>\n",
              "      <td>0</td>\n",
              "      <td>0</td>\n",
              "      <td>0</td>\n",
              "      <td>0</td>\n",
              "      <td>0</td>\n",
              "      <td>0</td>\n",
              "      <td>1</td>\n",
              "      <td>1</td>\n",
              "      <td>Marikina City</td>\n",
              "      <td>43898.0</td>\n",
              "      <td>philippines</td>\n",
              "      <td>43891.0</td>\n",
              "      <td>NaN</td>\n",
              "      <td>deceased</td>\n",
              "      <td>4</td>\n",
              "      <td>male</td>\n",
              "      <td>breathing difficulty organ failure pneumonia r...</td>\n",
              "      <td>0</td>\n",
              "      <td>0</td>\n",
              "      <td>0</td>\n",
              "      <td>0</td>\n",
              "      <td>0</td>\n",
              "      <td>0</td>\n",
              "      <td>0</td>\n",
              "      <td>0</td>\n",
              "      <td>0</td>\n",
              "      <td>0</td>\n",
              "      <td>1</td>\n",
              "      <td>1</td>\n",
              "      <td>0</td>\n",
              "      <td>1</td>\n",
              "      <td>1</td>\n",
              "      <td>hospital</td>\n",
              "      <td>1</td>\n",
              "    </tr>\n",
              "  </tbody>\n",
              "</table>\n",
              "</div>"
            ],
            "text/plain": [
              "  age  age_0-9  age_10-19  ...  breathing difficulty  treatment  treatment_binary\n",
              "0  35        0          0  ...                     0        NaN                 0\n",
              "1  35        0          0  ...                     0        NaN                 0\n",
              "2  62        0          0  ...                     1   hospital                 1\n",
              "3  59        0          0  ...                     1   hospital                 1\n",
              "4  86        0          0  ...                     1   hospital                 1\n",
              "\n",
              "[5 rows x 37 columns]"
            ]
          },
          "metadata": {
            "tags": []
          },
          "execution_count": 67
        }
      ]
    },
    {
      "cell_type": "markdown",
      "metadata": {
        "id": "BvQt9CrciM4o",
        "colab_type": "text"
      },
      "source": [
        "## EDA"
      ]
    },
    {
      "cell_type": "code",
      "metadata": {
        "id": "2Y2Y9SzESW8h",
        "colab_type": "code",
        "outputId": "d80a7817-5ce0-460e-a4b5-1e30da38be92",
        "colab": {
          "base_uri": "https://localhost:8080/",
          "height": 756
        }
      },
      "source": [
        "df.info()"
      ],
      "execution_count": 0,
      "outputs": [
        {
          "output_type": "stream",
          "text": [
            "<class 'pandas.core.frame.DataFrame'>\n",
            "RangeIndex: 1490 entries, 0 to 1489\n",
            "Data columns (total 37 columns):\n",
            " #   Column                      Non-Null Count  Dtype  \n",
            "---  ------                      --------------  -----  \n",
            " 0   age                         1415 non-null   object \n",
            " 1   age_0-9                     1490 non-null   int64  \n",
            " 2   age_10-19                   1490 non-null   int64  \n",
            " 3   age_20-29                   1490 non-null   int64  \n",
            " 4   age_30-39                   1490 non-null   int64  \n",
            " 5   age_40-49                   1490 non-null   int64  \n",
            " 6   age_50-59                   1490 non-null   int64  \n",
            " 7   age_60-69                   1490 non-null   int64  \n",
            " 8   age_70-79                   1490 non-null   int64  \n",
            " 9   age_80+                     1490 non-null   int64  \n",
            " 10  background_diseases_binary  1490 non-null   int64  \n",
            " 11  city                        1182 non-null   object \n",
            " 12  confirmed_date              1449 non-null   float64\n",
            " 13  country                     1460 non-null   object \n",
            " 14  date_onset_symptoms         1155 non-null   float64\n",
            " 15  region                      1356 non-null   object \n",
            " 16  severity_illness            293 non-null    object \n",
            " 17  severity_level              1490 non-null   object \n",
            " 18  sex                         1446 non-null   object \n",
            " 19  symptoms                    1490 non-null   object \n",
            " 20  no_symptom                  1490 non-null   int64  \n",
            " 21  diarrhea                    1490 non-null   int64  \n",
            " 22  myalgia                     1490 non-null   int64  \n",
            " 23  fever                       1490 non-null   int64  \n",
            " 24  respiratory infection       1490 non-null   int64  \n",
            " 25  cough                       1490 non-null   int64  \n",
            " 26  fatigue                     1490 non-null   int64  \n",
            " 27  hypoxia                     1490 non-null   int64  \n",
            " 28  weakness                    1490 non-null   int64  \n",
            " 29  chills                      1490 non-null   int64  \n",
            " 30  septic shock                1490 non-null   int64  \n",
            " 31  respiratory failure         1490 non-null   int64  \n",
            " 32  sepsis                      1490 non-null   int64  \n",
            " 33  pneumonia                   1490 non-null   int64  \n",
            " 34  breathing difficulty        1490 non-null   int64  \n",
            " 35  treatment                   56 non-null     object \n",
            " 36  treatment_binary            1490 non-null   int64  \n",
            "dtypes: float64(2), int64(26), object(9)\n",
            "memory usage: 430.8+ KB\n"
          ],
          "name": "stdout"
        }
      ]
    },
    {
      "cell_type": "code",
      "metadata": {
        "id": "urmZ9KMqER9a",
        "colab_type": "code",
        "outputId": "689498bc-f128-41a3-cfd6-76428526cff5",
        "colab": {
          "base_uri": "https://localhost:8080/",
          "height": 134
        }
      },
      "source": [
        "df['severity_level'].value_counts()"
      ],
      "execution_count": 0,
      "outputs": [
        {
          "output_type": "execute_result",
          "data": {
            "text/plain": [
              "FALSE    1197\n",
              "4         180\n",
              "2          66\n",
              "0          37\n",
              "1           8\n",
              "3           2\n",
              "Name: severity_level, dtype: int64"
            ]
          },
          "metadata": {
            "tags": []
          },
          "execution_count": 5
        }
      ]
    },
    {
      "cell_type": "code",
      "metadata": {
        "id": "uQuY7ForRqwv",
        "colab_type": "code",
        "outputId": "44397c5e-1691-44d8-b6ce-01df308d6877",
        "colab": {
          "base_uri": "https://localhost:8080/",
          "height": 134
        }
      },
      "source": [
        "df['severity_level'].value_counts() / len(df)"
      ],
      "execution_count": 0,
      "outputs": [
        {
          "output_type": "execute_result",
          "data": {
            "text/plain": [
              "FALSE    0.803356\n",
              "4        0.120805\n",
              "2        0.044295\n",
              "0        0.024832\n",
              "1        0.005369\n",
              "3        0.001342\n",
              "Name: severity_level, dtype: float64"
            ]
          },
          "metadata": {
            "tags": []
          },
          "execution_count": 339
        }
      ]
    },
    {
      "cell_type": "code",
      "metadata": {
        "id": "nuwXn9ZCR6_B",
        "colab_type": "code",
        "outputId": "1e19cee5-efd7-424e-b45b-2d5b3abbd978",
        "colab": {
          "base_uri": "https://localhost:8080/",
          "height": 67
        }
      },
      "source": [
        "df['background_diseases_binary'].value_counts()"
      ],
      "execution_count": 0,
      "outputs": [
        {
          "output_type": "execute_result",
          "data": {
            "text/plain": [
              "0    1318\n",
              "1     172\n",
              "Name: background_diseases_binary, dtype: int64"
            ]
          },
          "metadata": {
            "tags": []
          },
          "execution_count": 5
        }
      ]
    },
    {
      "cell_type": "code",
      "metadata": {
        "id": "_V1cSE-4SHu4",
        "colab_type": "code",
        "outputId": "a0fdbc7c-2d49-4f36-f16b-261a600bac7c",
        "colab": {
          "base_uri": "https://localhost:8080/",
          "height": 67
        }
      },
      "source": [
        "df['treatment_binary'].value_counts()"
      ],
      "execution_count": 0,
      "outputs": [
        {
          "output_type": "execute_result",
          "data": {
            "text/plain": [
              "0    1434\n",
              "1      56\n",
              "Name: treatment_binary, dtype: int64"
            ]
          },
          "metadata": {
            "tags": []
          },
          "execution_count": 6
        }
      ]
    },
    {
      "cell_type": "markdown",
      "metadata": {
        "id": "xAxRvzbjiQAw",
        "colab_type": "text"
      },
      "source": [
        "## Preprocessing"
      ]
    },
    {
      "cell_type": "code",
      "metadata": {
        "id": "y3Pt5FQAS8uO",
        "colab_type": "code",
        "outputId": "5e46278e-4360-4ea1-f429-e89a289f620e",
        "colab": {
          "base_uri": "https://localhost:8080/",
          "height": 168
        }
      },
      "source": [
        "df.columns"
      ],
      "execution_count": 0,
      "outputs": [
        {
          "output_type": "execute_result",
          "data": {
            "text/plain": [
              "Index(['age', 'age_0-9', 'age_10-19', 'age_20-29', 'age_30-39', 'age_40-49',\n",
              "       'age_50-59', 'age_60-69', 'age_70-79', 'age_80+',\n",
              "       'background_diseases_binary', 'city', 'confirmed_date', 'country',\n",
              "       'date_onset_symptoms', 'region', 'severity_illness', 'severity_level',\n",
              "       'sex', 'symptoms', 'no_symptom', 'diarrhea', 'myalgia ', 'fever',\n",
              "       'respiratory infection', 'cough ', 'fatigue', 'hypoxia', 'weakness',\n",
              "       'chills', 'septic shock', 'respiratory failure', 'sepsis', 'pneumonia',\n",
              "       'breathing difficulty', 'treatment', 'treatment_binary'],\n",
              "      dtype='object')"
            ]
          },
          "metadata": {
            "tags": []
          },
          "execution_count": 69
        }
      ]
    },
    {
      "cell_type": "code",
      "metadata": {
        "id": "r6Ee2sLoS1QQ",
        "colab_type": "code",
        "colab": {}
      },
      "source": [
        "col_needed = ['no_symptom','diarrhea', 'myalgia ', 'fever', 'respiratory infection', 'cough ',\n",
        "       'fatigue', 'hypoxia', 'weakness', 'chills', 'septic shock',\n",
        "       'respiratory failure', 'sepsis', 'pneumonia', 'breathing difficulty',\n",
        "       'treatment_binary', 'background_diseases_binary', 'age_0-9', 'age_10-19', 'age_20-29', 'age_30-39', 'age_40-49',\n",
        "       'age_50-59', 'age_60-69', 'age_70-79', 'sex', 'severity_level']\n",
        "dfv2 = df[col_needed]"
      ],
      "execution_count": 0,
      "outputs": []
    },
    {
      "cell_type": "code",
      "metadata": {
        "id": "16264iaPUhWG",
        "colab_type": "code",
        "colab": {}
      },
      "source": [
        "dfv2 = pd.get_dummies(dfv2, columns=['sex'], drop_first=True)"
      ],
      "execution_count": 0,
      "outputs": []
    },
    {
      "cell_type": "code",
      "metadata": {
        "id": "aIk8ZwrpvnB_",
        "colab_type": "code",
        "colab": {}
      },
      "source": [
        "combined_level = []\n",
        "for val in dfv2['severity_level']:\n",
        "  if val == '0':\n",
        "    combined_level.append('0')\n",
        "  elif val == '1':\n",
        "    combined_level.append('0')\n",
        "  elif val == '2':\n",
        "    combined_level.append('0')\n",
        "  elif val == '3': \n",
        "    combined_level.append('1')\n",
        "  elif val == '4': \n",
        "    combined_level.append('1')\n",
        "  else: combined_level.append('unknown')"
      ],
      "execution_count": 0,
      "outputs": []
    },
    {
      "cell_type": "code",
      "metadata": {
        "id": "4isajHyqxWwc",
        "colab_type": "code",
        "colab": {}
      },
      "source": [
        "dfv2['combined_level'] = combined_level"
      ],
      "execution_count": 0,
      "outputs": []
    },
    {
      "cell_type": "code",
      "metadata": {
        "id": "VGrgIKIkx3Z6",
        "colab_type": "code",
        "outputId": "b2bbc7ca-6537-4a45-ce30-e2188554d49a",
        "colab": {
          "base_uri": "https://localhost:8080/",
          "height": 84
        }
      },
      "source": [
        "dfv2['combined_level'].value_counts()"
      ],
      "execution_count": 0,
      "outputs": [
        {
          "output_type": "execute_result",
          "data": {
            "text/plain": [
              "unknown    1197\n",
              "1           182\n",
              "0           111\n",
              "Name: combined_level, dtype: int64"
            ]
          },
          "metadata": {
            "tags": []
          },
          "execution_count": 75
        }
      ]
    },
    {
      "cell_type": "code",
      "metadata": {
        "id": "6Kowia5STjYy",
        "colab_type": "code",
        "colab": {}
      },
      "source": [
        "dfv3 = dfv2.loc[dfv2['combined_level']!='unknown',:].reset_index().drop('index',axis=1)"
      ],
      "execution_count": 0,
      "outputs": []
    },
    {
      "cell_type": "markdown",
      "metadata": {
        "id": "1EiUYYPAif6P",
        "colab_type": "text"
      },
      "source": [
        "## Model Building"
      ]
    },
    {
      "cell_type": "code",
      "metadata": {
        "id": "CbqRQSL6UN_D",
        "colab_type": "code",
        "colab": {}
      },
      "source": [
        "X = dfv3.drop(['severity_level', 'combined_level'],axis=1)\n",
        "y = dfv3.loc[:,'combined_level'].astype('int')"
      ],
      "execution_count": 0,
      "outputs": []
    },
    {
      "cell_type": "code",
      "metadata": {
        "id": "V00BCWyxhVIK",
        "colab_type": "code",
        "outputId": "4e7872a9-8f43-46ea-8375-c76efef96155",
        "colab": {
          "base_uri": "https://localhost:8080/",
          "height": 67
        }
      },
      "source": [
        "y.value_counts()"
      ],
      "execution_count": 0,
      "outputs": [
        {
          "output_type": "execute_result",
          "data": {
            "text/plain": [
              "1    182\n",
              "0    111\n",
              "Name: combined_level, dtype: int64"
            ]
          },
          "metadata": {
            "tags": []
          },
          "execution_count": 78
        }
      ]
    },
    {
      "cell_type": "code",
      "metadata": {
        "id": "l5Z1McqaU7KM",
        "colab_type": "code",
        "colab": {}
      },
      "source": [
        "X_train, X_test, y_train, y_test = train_test_split(X, y, test_size=0.33, random_state=42)"
      ],
      "execution_count": 0,
      "outputs": []
    },
    {
      "cell_type": "markdown",
      "metadata": {
        "id": "ro1bOtEk-kdM",
        "colab_type": "text"
      },
      "source": [
        "### Logistic Regression"
      ]
    },
    {
      "cell_type": "code",
      "metadata": {
        "id": "oFA6biOp-oNe",
        "colab_type": "code",
        "colab": {}
      },
      "source": [
        "lr = LogisticRegression(random_state=42)"
      ],
      "execution_count": 0,
      "outputs": []
    },
    {
      "cell_type": "code",
      "metadata": {
        "id": "pUpMWsZ7-tTs",
        "colab_type": "code",
        "outputId": "2bd5ec04-65be-4e27-cafc-d3c904be114b",
        "colab": {
          "base_uri": "https://localhost:8080/",
          "height": 101
        }
      },
      "source": [
        "lr.fit(X_train, y_train)"
      ],
      "execution_count": 0,
      "outputs": [
        {
          "output_type": "execute_result",
          "data": {
            "text/plain": [
              "LogisticRegression(C=1.0, class_weight=None, dual=False, fit_intercept=True,\n",
              "                   intercept_scaling=1, l1_ratio=None, max_iter=100,\n",
              "                   multi_class='auto', n_jobs=None, penalty='l2',\n",
              "                   random_state=42, solver='lbfgs', tol=0.0001, verbose=0,\n",
              "                   warm_start=False)"
            ]
          },
          "metadata": {
            "tags": []
          },
          "execution_count": 143
        }
      ]
    },
    {
      "cell_type": "code",
      "metadata": {
        "id": "F5iq-DLNBbbe",
        "colab_type": "code",
        "colab": {}
      },
      "source": [
        "y_pred = lr.predict(X_test)"
      ],
      "execution_count": 0,
      "outputs": []
    },
    {
      "cell_type": "code",
      "metadata": {
        "id": "i06IKxggBhvp",
        "colab_type": "code",
        "outputId": "e8674e72-0713-4be7-d6a8-03f0e809ba48",
        "colab": {
          "base_uri": "https://localhost:8080/",
          "height": 34
        }
      },
      "source": [
        "accuracy_score(y_test, y_pred)"
      ],
      "execution_count": 0,
      "outputs": [
        {
          "output_type": "execute_result",
          "data": {
            "text/plain": [
              "0.845360824742268"
            ]
          },
          "metadata": {
            "tags": []
          },
          "execution_count": 169
        }
      ]
    },
    {
      "cell_type": "code",
      "metadata": {
        "id": "CCLM6FqlBlTg",
        "colab_type": "code",
        "outputId": "2f7a9973-0209-4534-f571-fca42c42ef39",
        "colab": {
          "base_uri": "https://localhost:8080/",
          "height": 50
        }
      },
      "source": [
        "confusion_matrix(y_test, y_pred)"
      ],
      "execution_count": 0,
      "outputs": [
        {
          "output_type": "execute_result",
          "data": {
            "text/plain": [
              "array([[33,  6],\n",
              "       [ 9, 49]])"
            ]
          },
          "metadata": {
            "tags": []
          },
          "execution_count": 171
        }
      ]
    },
    {
      "cell_type": "code",
      "metadata": {
        "id": "U9hF10k8Bv2Y",
        "colab_type": "code",
        "outputId": "75565834-2e36-4abc-8cb8-2a6ca790a911",
        "colab": {
          "base_uri": "https://localhost:8080/",
          "height": 168
        }
      },
      "source": [
        "print(classification_report(y_test, y_pred))"
      ],
      "execution_count": 0,
      "outputs": [
        {
          "output_type": "stream",
          "text": [
            "              precision    recall  f1-score   support\n",
            "\n",
            "           0       0.79      0.85      0.81        39\n",
            "           1       0.89      0.84      0.87        58\n",
            "\n",
            "    accuracy                           0.85        97\n",
            "   macro avg       0.84      0.85      0.84        97\n",
            "weighted avg       0.85      0.85      0.85        97\n",
            "\n"
          ],
          "name": "stdout"
        }
      ]
    },
    {
      "cell_type": "code",
      "metadata": {
        "id": "caIj1ihz_AD5",
        "colab_type": "code",
        "outputId": "7a1a6048-ac16-4466-b8a9-078e971cf4b6",
        "colab": {
          "base_uri": "https://localhost:8080/",
          "height": 470
        }
      },
      "source": [
        "stand_coef = np.std(X_train,0)*lr.coef_[0]\n",
        "print(stand_coef)"
      ],
      "execution_count": 0,
      "outputs": [
        {
          "output_type": "stream",
          "text": [
            "no_symptom                   -0.686553\n",
            "diarrhea                      0.001292\n",
            "myalgia                       0.071971\n",
            "fever                        -0.123840\n",
            "respiratory infection         0.122918\n",
            "cough                        -0.078204\n",
            "fatigue                       0.004880\n",
            "hypoxia                       0.002261\n",
            "weakness                     -0.000104\n",
            "chills                        0.034157\n",
            "septic shock                  0.192602\n",
            "respiratory failure           0.265483\n",
            "sepsis                        0.010714\n",
            "pneumonia                     0.743636\n",
            "breathing difficulty          0.421806\n",
            "treatment_binary              0.107431\n",
            "background_diseases_binary    0.847689\n",
            "age_0-9                      -0.223251\n",
            "age_10-19                    -0.050751\n",
            "age_20-29                    -0.261729\n",
            "age_30-39                    -0.230421\n",
            "age_40-49                    -0.347541\n",
            "age_50-59                    -0.147969\n",
            "age_60-69                     0.225356\n",
            "age_70-79                     0.174316\n",
            "sex_male                     -0.086070\n",
            "dtype: float64\n"
          ],
          "name": "stdout"
        }
      ]
    },
    {
      "cell_type": "code",
      "metadata": {
        "id": "EzoXMOKw_pNh",
        "colab_type": "code",
        "colab": {}
      },
      "source": [
        "sort_coef = stand_coef.sort_values()"
      ],
      "execution_count": 0,
      "outputs": []
    },
    {
      "cell_type": "code",
      "metadata": {
        "id": "vq_UxoPN-9Fg",
        "colab_type": "code",
        "outputId": "26a7b9c2-36d3-4964-b127-52ce1ab34edd",
        "colab": {
          "base_uri": "https://localhost:8080/",
          "height": 592
        }
      },
      "source": [
        "plt.figure(figsize=(10,10))\n",
        "barlist = plt.barh(sort_coef.index,sort_coef,color='g')\n",
        "for i,coef in enumerate(sort_coef.values):\n",
        "    if coef<0:\n",
        "        barlist[i].set_color('r')\n",
        "    else: pass"
      ],
      "execution_count": 0,
      "outputs": [
        {
          "output_type": "display_data",
          "data": {
            "image/png": "[encoded data removed]",
            "text/plain": [
              "<Figure size 720x720 with 1 Axes>"
            ]
          },
          "metadata": {
            "tags": []
          }
        }
      ]
    },
    {
      "cell_type": "markdown",
      "metadata": {
        "id": "wM3X0951is3_",
        "colab_type": "text"
      },
      "source": [
        "### Random Forest"
      ]
    },
    {
      "cell_type": "code",
      "metadata": {
        "id": "53MTmF0gVE_t",
        "colab_type": "code",
        "colab": {}
      },
      "source": [
        "rf = RandomForestClassifier(random_state=42)"
      ],
      "execution_count": 0,
      "outputs": []
    },
    {
      "cell_type": "code",
      "metadata": {
        "id": "Btq1acOFVIXK",
        "colab_type": "code",
        "outputId": "d7dbb92e-084f-45b1-f12a-1bf9217bc5e9",
        "colab": {
          "base_uri": "https://localhost:8080/",
          "height": 151
        }
      },
      "source": [
        "rf.fit(X_train, y_train)"
      ],
      "execution_count": 0,
      "outputs": [
        {
          "output_type": "execute_result",
          "data": {
            "text/plain": [
              "RandomForestClassifier(bootstrap=True, ccp_alpha=0.0, class_weight=None,\n",
              "                       criterion='gini', max_depth=None, max_features='auto',\n",
              "                       max_leaf_nodes=None, max_samples=None,\n",
              "                       min_impurity_decrease=0.0, min_impurity_split=None,\n",
              "                       min_samples_leaf=1, min_samples_split=2,\n",
              "                       min_weight_fraction_leaf=0.0, n_estimators=100,\n",
              "                       n_jobs=None, oob_score=False, random_state=42, verbose=0,\n",
              "                       warm_start=False)"
            ]
          },
          "metadata": {
            "tags": []
          },
          "execution_count": 81
        }
      ]
    },
    {
      "cell_type": "code",
      "metadata": {
        "id": "Py4yN10hVKQq",
        "colab_type": "code",
        "colab": {}
      },
      "source": [
        "y_pred = rf.predict(X_test)"
      ],
      "execution_count": 0,
      "outputs": []
    },
    {
      "cell_type": "code",
      "metadata": {
        "id": "xg_NqL4yVMMD",
        "colab_type": "code",
        "outputId": "7a372146-b504-47ff-92cb-d896afa9dd57",
        "colab": {
          "base_uri": "https://localhost:8080/",
          "height": 34
        }
      },
      "source": [
        "accuracy_score(y_test, y_pred)"
      ],
      "execution_count": 0,
      "outputs": [
        {
          "output_type": "execute_result",
          "data": {
            "text/plain": [
              "0.8762886597938144"
            ]
          },
          "metadata": {
            "tags": []
          },
          "execution_count": 83
        }
      ]
    },
    {
      "cell_type": "code",
      "metadata": {
        "id": "9fdkM1axco4n",
        "colab_type": "code",
        "outputId": "64689dd8-d484-4e73-9293-220f29d3c00d",
        "colab": {
          "base_uri": "https://localhost:8080/",
          "height": 50
        }
      },
      "source": [
        "confusion_matrix(y_test, y_pred)"
      ],
      "execution_count": 0,
      "outputs": [
        {
          "output_type": "execute_result",
          "data": {
            "text/plain": [
              "array([[33,  6],\n",
              "       [ 6, 52]])"
            ]
          },
          "metadata": {
            "tags": []
          },
          "execution_count": 85
        }
      ]
    },
    {
      "cell_type": "code",
      "metadata": {
        "id": "gh7i5F4bc-fx",
        "colab_type": "code",
        "outputId": "5119cd1e-0b50-483c-f619-6b7629e95e4f",
        "colab": {
          "base_uri": "https://localhost:8080/",
          "height": 168
        }
      },
      "source": [
        "print(classification_report(y_test, y_pred))"
      ],
      "execution_count": 0,
      "outputs": [
        {
          "output_type": "stream",
          "text": [
            "              precision    recall  f1-score   support\n",
            "\n",
            "           0       0.85      0.85      0.85        39\n",
            "           1       0.90      0.90      0.90        58\n",
            "\n",
            "    accuracy                           0.88        97\n",
            "   macro avg       0.87      0.87      0.87        97\n",
            "weighted avg       0.88      0.88      0.88        97\n",
            "\n"
          ],
          "name": "stdout"
        }
      ]
    },
    {
      "cell_type": "markdown",
      "metadata": {
        "id": "BKNIsquRiyLV",
        "colab_type": "text"
      },
      "source": [
        "#### Feature Importance"
      ]
    },
    {
      "cell_type": "code",
      "metadata": {
        "id": "xdCcDXCUTrw_",
        "colab_type": "code",
        "outputId": "1fc5abe7-691e-40b7-e558-c88d2423523e",
        "colab": {
          "base_uri": "https://localhost:8080/",
          "height": 337
        }
      },
      "source": [
        "plt.figure(figsize=(10,5))\n",
        "plt.barh(X_train.columns[rf.feature_importances_.argsort()],np.sort(rf.feature_importances_))"
      ],
      "execution_count": 0,
      "outputs": [
        {
          "output_type": "execute_result",
          "data": {
            "text/plain": [
              "<BarContainer object of 26 artists>"
            ]
          },
          "metadata": {
            "tags": []
          },
          "execution_count": 87
        },
        {
          "output_type": "display_data",
          "data": {
            "image/png": "[encoded data removed]",
            "text/plain": [
              "<Figure size 720x360 with 1 Axes>"
            ]
          },
          "metadata": {
            "tags": []
          }
        }
      ]
    },
    {
      "cell_type": "markdown",
      "metadata": {
        "id": "MGDL_mlEVC7g",
        "colab_type": "text"
      },
      "source": [
        "### Algorithms Comparison"
      ]
    },
    {
      "cell_type": "code",
      "metadata": {
        "id": "Sf4zRIKZWCq4",
        "colab_type": "code",
        "colab": {}
      },
      "source": [
        "dict_classifiers = {\n",
        "    \"Logistic Regression\": LogisticRegression(random_state=42),\n",
        "    \"Nearest Neighbors\": KNeighborsClassifier(),\n",
        "    \"Support Vector Machine\": SVC(kernel = 'rbf',random_state=42),\n",
        "    \"Gradient Boosting Classifier\": GradientBoostingClassifier(random_state=42),\n",
        "    \"Decision Tree\": DecisionTreeClassifier(random_state=42),\n",
        "    \"Random Forest\": RandomForestClassifier(random_state=42),\n",
        "    \"Naive Bayes\": GaussianNB()\n",
        "}"
      ],
      "execution_count": 0,
      "outputs": []
    },
    {
      "cell_type": "code",
      "metadata": {
        "id": "0zpaxe8dVChJ",
        "colab_type": "code",
        "colab": {}
      },
      "source": [
        "no_classifiers = len(dict_classifiers.keys())\n",
        "\n",
        "def batch_classify(X_train, y_train, X_test, y_test):\n",
        "    df_results = pd.DataFrame(data=np.zeros(shape=(no_classifiers,2)), columns = ['classifier', 'accuracy'])\n",
        "    count = 0\n",
        "    for key, classifier in dict_classifiers.items():\n",
        "        classifier.fit(X_train, y_train)\n",
        "        y_pred = classifier.predict(X_test)\n",
        "        train_score = accuracy_score(y_test, y_pred)\n",
        "        df_results.loc[count,'classifier'] = key\n",
        "        df_results.loc[count,'accuracy'] = train_score\n",
        "        count+=1\n",
        "    return df_results"
      ],
      "execution_count": 0,
      "outputs": []
    },
    {
      "cell_type": "code",
      "metadata": {
        "id": "keq7ZA81XT_1",
        "colab_type": "code",
        "outputId": "0b5d68d1-5b08-47af-e032-79cb9f3cb36e",
        "colab": {
          "base_uri": "https://localhost:8080/",
          "height": 254
        }
      },
      "source": [
        "# Random Forest is our best model\n",
        "batch_classify(X_train, y_train, X_test, y_test)"
      ],
      "execution_count": 0,
      "outputs": [
        {
          "output_type": "execute_result",
          "data": {
            "text/html": [
              "<div>\n",
              "<style scoped>\n",
              "    .dataframe tbody tr th:only-of-type {\n",
              "        vertical-align: middle;\n",
              "    }\n",
              "\n",
              "    .dataframe tbody tr th {\n",
              "        vertical-align: top;\n",
              "    }\n",
              "\n",
              "    .dataframe thead th {\n",
              "        text-align: right;\n",
              "    }\n",
              "</style>\n",
              "<table border=\"1\" class=\"dataframe\">\n",
              "  <thead>\n",
              "    <tr style=\"text-align: right;\">\n",
              "      <th></th>\n",
              "      <th>classifier</th>\n",
              "      <th>accuracy</th>\n",
              "    </tr>\n",
              "  </thead>\n",
              "  <tbody>\n",
              "    <tr>\n",
              "      <th>0</th>\n",
              "      <td>Logistic Regression</td>\n",
              "      <td>0.845361</td>\n",
              "    </tr>\n",
              "    <tr>\n",
              "      <th>1</th>\n",
              "      <td>Nearest Neighbors</td>\n",
              "      <td>0.865979</td>\n",
              "    </tr>\n",
              "    <tr>\n",
              "      <th>2</th>\n",
              "      <td>Support Vector Machine</td>\n",
              "      <td>0.865979</td>\n",
              "    </tr>\n",
              "    <tr>\n",
              "      <th>3</th>\n",
              "      <td>Gradient Boosting Classifier</td>\n",
              "      <td>0.855670</td>\n",
              "    </tr>\n",
              "    <tr>\n",
              "      <th>4</th>\n",
              "      <td>Decision Tree</td>\n",
              "      <td>0.804124</td>\n",
              "    </tr>\n",
              "    <tr>\n",
              "      <th>5</th>\n",
              "      <td>Random Forest</td>\n",
              "      <td>0.876289</td>\n",
              "    </tr>\n",
              "    <tr>\n",
              "      <th>6</th>\n",
              "      <td>Naive Bayes</td>\n",
              "      <td>0.721649</td>\n",
              "    </tr>\n",
              "  </tbody>\n",
              "</table>\n",
              "</div>"
            ],
            "text/plain": [
              "                     classifier  accuracy\n",
              "0           Logistic Regression  0.845361\n",
              "1             Nearest Neighbors  0.865979\n",
              "2        Support Vector Machine  0.865979\n",
              "3  Gradient Boosting Classifier  0.855670\n",
              "4                 Decision Tree  0.804124\n",
              "5                 Random Forest  0.876289\n",
              "6                   Naive Bayes  0.721649"
            ]
          },
          "metadata": {
            "tags": []
          },
          "execution_count": 100
        }
      ]
    },
    {
      "cell_type": "markdown",
      "metadata": {
        "id": "A4NhbIaSZ_VR",
        "colab_type": "text"
      },
      "source": [
        "### Cluster (KMeans)"
      ]
    },
    {
      "cell_type": "code",
      "metadata": {
        "id": "V5fG0YU6Ezg8",
        "colab_type": "code",
        "outputId": "ac2a3bc3-ec18-457b-f25e-1ef22c0b675f",
        "colab": {
          "base_uri": "https://localhost:8080/",
          "height": 299
        }
      },
      "source": [
        "Error =[]\n",
        "for i in range(1, 11):\n",
        "    kmeans = KMeans(n_clusters = i).fit(X)\n",
        "    kmeans.fit(X)\n",
        "    Error.append(kmeans.inertia_)\n",
        "import matplotlib.pyplot as plt\n",
        "plt.plot(range(1, 11), Error)\n",
        "plt.title('Elbow method')\n",
        "plt.xlabel('No of clusters')\n",
        "plt.ylabel('Error')\n",
        "plt.show()"
      ],
      "execution_count": 0,
      "outputs": [
        {
          "output_type": "display_data",
          "data": {
            "image/png": "[encoded data removed]",
            "text/plain": [
              "<Figure size 432x288 with 1 Axes>"
            ]
          },
          "metadata": {
            "tags": []
          }
        }
      ]
    },
    {
      "cell_type": "code",
      "metadata": {
        "id": "1svTJhqwYRXN",
        "colab_type": "code",
        "colab": {}
      },
      "source": [
        "kmean = KMeans(n_clusters=2).fit(X_train)"
      ],
      "execution_count": 0,
      "outputs": []
    },
    {
      "cell_type": "code",
      "metadata": {
        "id": "Wq03n0PTaccP",
        "colab_type": "code",
        "colab": {}
      },
      "source": [
        "y_kmeans = kmean.fit_predict(X_test)"
      ],
      "execution_count": 0,
      "outputs": []
    },
    {
      "cell_type": "code",
      "metadata": {
        "id": "If-CDxZQwUwL",
        "colab_type": "code",
        "colab": {}
      },
      "source": [
        "reversed_y_kmeans=[]\n",
        "for i in y_kmeans:\n",
        "  if i == 1:\n",
        "    reversed_y_kmeans.append(0)\n",
        "  else: reversed_y_kmeans.append(1)"
      ],
      "execution_count": 0,
      "outputs": []
    },
    {
      "cell_type": "code",
      "metadata": {
        "id": "d2D103sWbSTe",
        "colab_type": "code",
        "outputId": "94f2b354-a1a8-4bb5-c9e5-b5ccd30dd27f",
        "colab": {
          "base_uri": "https://localhost:8080/",
          "height": 34
        }
      },
      "source": [
        "kmeanScore = accuracy_score(y_test, reversed_y_kmeans)"
      ],
      "execution_count": 0,
      "outputs": [
        {
          "output_type": "execute_result",
          "data": {
            "text/plain": [
              "0.7319587628865979"
            ]
          },
          "metadata": {
            "tags": []
          },
          "execution_count": 137
        }
      ]
    },
    {
      "cell_type": "code",
      "metadata": {
        "id": "_fnJ26JNfP8O",
        "colab_type": "code",
        "colab": {}
      },
      "source": [
        "kmeandf = pd.DataFrame({'classifier':'KMeans','accuracy':kmeanScore},index=[7])"
      ],
      "execution_count": 0,
      "outputs": []
    },
    {
      "cell_type": "code",
      "metadata": {
        "id": "SRsopj8SfwmB",
        "colab_type": "code",
        "outputId": "ceffc60a-9234-437a-c670-d5c354079b7f",
        "colab": {
          "base_uri": "https://localhost:8080/",
          "height": 284
        }
      },
      "source": [
        "# SVM is still our best model\n",
        "pd.concat([batch_classify(X_train, y_train, X_test, y_test), kmeandf])"
      ],
      "execution_count": 0,
      "outputs": [
        {
          "output_type": "execute_result",
          "data": {
            "text/html": [
              "<div>\n",
              "<style scoped>\n",
              "    .dataframe tbody tr th:only-of-type {\n",
              "        vertical-align: middle;\n",
              "    }\n",
              "\n",
              "    .dataframe tbody tr th {\n",
              "        vertical-align: top;\n",
              "    }\n",
              "\n",
              "    .dataframe thead th {\n",
              "        text-align: right;\n",
              "    }\n",
              "</style>\n",
              "<table border=\"1\" class=\"dataframe\">\n",
              "  <thead>\n",
              "    <tr style=\"text-align: right;\">\n",
              "      <th></th>\n",
              "      <th>classifier</th>\n",
              "      <th>accuracy</th>\n",
              "    </tr>\n",
              "  </thead>\n",
              "  <tbody>\n",
              "    <tr>\n",
              "      <th>0</th>\n",
              "      <td>Logistic Regression</td>\n",
              "      <td>0.835052</td>\n",
              "    </tr>\n",
              "    <tr>\n",
              "      <th>1</th>\n",
              "      <td>Nearest Neighbors</td>\n",
              "      <td>0.783505</td>\n",
              "    </tr>\n",
              "    <tr>\n",
              "      <th>2</th>\n",
              "      <td>Support Vector Machine</td>\n",
              "      <td>0.855670</td>\n",
              "    </tr>\n",
              "    <tr>\n",
              "      <th>3</th>\n",
              "      <td>Gradient Boosting Classifier</td>\n",
              "      <td>0.804124</td>\n",
              "    </tr>\n",
              "    <tr>\n",
              "      <th>4</th>\n",
              "      <td>Decision Tree</td>\n",
              "      <td>0.752577</td>\n",
              "    </tr>\n",
              "    <tr>\n",
              "      <th>5</th>\n",
              "      <td>Random Forest</td>\n",
              "      <td>0.793814</td>\n",
              "    </tr>\n",
              "    <tr>\n",
              "      <th>6</th>\n",
              "      <td>Naive Bayes</td>\n",
              "      <td>0.742268</td>\n",
              "    </tr>\n",
              "    <tr>\n",
              "      <th>7</th>\n",
              "      <td>KMeans</td>\n",
              "      <td>0.690722</td>\n",
              "    </tr>\n",
              "  </tbody>\n",
              "</table>\n",
              "</div>"
            ],
            "text/plain": [
              "                     classifier  accuracy\n",
              "0           Logistic Regression  0.835052\n",
              "1             Nearest Neighbors  0.783505\n",
              "2        Support Vector Machine  0.855670\n",
              "3  Gradient Boosting Classifier  0.804124\n",
              "4                 Decision Tree  0.752577\n",
              "5                 Random Forest  0.793814\n",
              "6                   Naive Bayes  0.742268\n",
              "7                        KMeans  0.690722"
            ]
          },
          "metadata": {
            "tags": []
          },
          "execution_count": 383
        }
      ]
    },
    {
      "cell_type": "markdown",
      "metadata": {
        "id": "1cfvN_oAgI7e",
        "colab_type": "text"
      },
      "source": [
        "## Model Tuning"
      ]
    },
    {
      "cell_type": "code",
      "metadata": {
        "id": "2u-Ou8l0gLt4",
        "colab_type": "code",
        "colab": {}
      },
      "source": [
        "random_grid = {'bootstrap': [True, False],\n",
        " 'max_depth': [10, 20, 30, 40, 50, 60, 70, 80, 90, 100, None],\n",
        " 'max_features': ['auto', 'sqrt'],\n",
        " 'min_samples_leaf': [1, 2, 4],\n",
        " 'min_samples_split': [2, 5, 10],\n",
        " 'n_estimators': [200, 400, 600, 800, 1000, 1200, 1400, 1600, 1800, 2000]}"
      ],
      "execution_count": 0,
      "outputs": []
    },
    {
      "cell_type": "code",
      "metadata": {
        "id": "LadCC2Uyh5cf",
        "colab_type": "code",
        "colab": {}
      },
      "source": [
        "randoms = RandomizedSearchCV(estimator = rf, param_distributions = random_grid, n_iter = 100, cv = 3, verbose=2, random_state=42, n_jobs = -1)\n",
        "randoms.fit(X_train,y_train)"
      ],
      "execution_count": 0,
      "outputs": []
    },
    {
      "cell_type": "code",
      "metadata": {
        "id": "AwXGvIRkixwF",
        "colab_type": "code",
        "outputId": "5892740d-ceee-47f5-d14e-3658340ae6ab",
        "colab": {
          "base_uri": "https://localhost:8080/",
          "height": 34
        }
      },
      "source": [
        "# print best parameter after tuning \n",
        "print(randoms.best_params_) \n",
        "# It's the default parameter of SVM"
      ],
      "execution_count": 0,
      "outputs": [
        {
          "output_type": "stream",
          "text": [
            "{'n_estimators': 800, 'min_samples_split': 2, 'min_samples_leaf': 1, 'max_features': 'sqrt', 'max_depth': 70, 'bootstrap': False}\n"
          ],
          "name": "stdout"
        }
      ]
    },
    {
      "cell_type": "code",
      "metadata": {
        "id": "TkdIyrrBjKt9",
        "colab_type": "code",
        "colab": {}
      },
      "source": [
        "y_pred = randoms.predict(X_test)"
      ],
      "execution_count": 0,
      "outputs": []
    },
    {
      "cell_type": "code",
      "metadata": {
        "id": "scdNHRlDjO1d",
        "colab_type": "code",
        "outputId": "d055f902-bc1d-4dd8-f39f-fed5b6be0306",
        "colab": {
          "base_uri": "https://localhost:8080/",
          "height": 34
        }
      },
      "source": [
        "accuracy_score(y_test, y_pred)"
      ],
      "execution_count": 0,
      "outputs": [
        {
          "output_type": "execute_result",
          "data": {
            "text/plain": [
              "0.8762886597938144"
            ]
          },
          "metadata": {
            "tags": []
          },
          "execution_count": 139
        }
      ]
    },
    {
      "cell_type": "code",
      "metadata": {
        "id": "WYPAi6Dcj_rn",
        "colab_type": "code",
        "outputId": "b06956de-c085-45d8-809b-9b2fb8a17e00",
        "colab": {
          "base_uri": "https://localhost:8080/",
          "height": 50
        }
      },
      "source": [
        "confusion_matrix(y_test, y_pred)"
      ],
      "execution_count": 0,
      "outputs": [
        {
          "output_type": "execute_result",
          "data": {
            "text/plain": [
              "array([[33,  6],\n",
              "       [ 6, 52]])"
            ]
          },
          "metadata": {
            "tags": []
          },
          "execution_count": 120
        }
      ]
    },
    {
      "cell_type": "code",
      "metadata": {
        "id": "PAasZF-nkEA4",
        "colab_type": "code",
        "outputId": "8fb11af1-9684-47b6-8280-0fb36e269650",
        "colab": {
          "base_uri": "https://localhost:8080/",
          "height": 168
        }
      },
      "source": [
        "print(classification_report(y_test, y_pred))"
      ],
      "execution_count": 0,
      "outputs": [
        {
          "output_type": "stream",
          "text": [
            "              precision    recall  f1-score   support\n",
            "\n",
            "           0       0.85      0.85      0.85        39\n",
            "           1       0.90      0.90      0.90        58\n",
            "\n",
            "    accuracy                           0.88        97\n",
            "   macro avg       0.87      0.87      0.87        97\n",
            "weighted avg       0.88      0.88      0.88        97\n",
            "\n"
          ],
          "name": "stdout"
        }
      ]
    },
    {
      "cell_type": "code",
      "metadata": {
        "id": "dY4hdR16ltSx",
        "colab_type": "code",
        "colab": {}
      },
      "source": [
        "y_score = randoms.predict_proba(X_test)[:,1]"
      ],
      "execution_count": 0,
      "outputs": []
    },
    {
      "cell_type": "code",
      "metadata": {
        "id": "ySMeTmiylnhZ",
        "colab_type": "code",
        "outputId": "44428706-cf7b-4f22-d85e-db507251e996",
        "colab": {
          "base_uri": "https://localhost:8080/",
          "height": 34
        }
      },
      "source": [
        "roc_auc_score(y_test, y_score)"
      ],
      "execution_count": 0,
      "outputs": [
        {
          "output_type": "execute_result",
          "data": {
            "text/plain": [
              "0.9129089301503095"
            ]
          },
          "metadata": {
            "tags": []
          },
          "execution_count": 124
        }
      ]
    },
    {
      "cell_type": "code",
      "metadata": {
        "id": "_rUeB2OqmH-A",
        "colab_type": "code",
        "colab": {}
      },
      "source": [
        "fpr, tpr, thresholds = roc_curve(y_test,y_score)"
      ],
      "execution_count": 0,
      "outputs": []
    },
    {
      "cell_type": "code",
      "metadata": {
        "id": "zYbCRm3GmJ5K",
        "colab_type": "code",
        "outputId": "187569e3-8755-439e-af39-bcef16fd660e",
        "colab": {
          "base_uri": "https://localhost:8080/",
          "height": 299
        }
      },
      "source": [
        "plt.plot(fpr, tpr,label = 'ROC')\n",
        "plt.plot([0,1],[0,1],'k-',label='random')\n",
        "plt.plot([0,0,1,1],[0,1,1,1],'g-',label='perfect')\n",
        "plt.legend()\n",
        "plt.xlabel('False Positive Rate')\n",
        "plt.ylabel('True Positive Rate')"
      ],
      "execution_count": 0,
      "outputs": [
        {
          "output_type": "execute_result",
          "data": {
            "text/plain": [
              "Text(0, 0.5, 'True Positive Rate')"
            ]
          },
          "metadata": {
            "tags": []
          },
          "execution_count": 126
        },
        {
          "output_type": "display_data",
          "data": {
            "image/png": "[encoded data removed]",
            "text/plain": [
              "<Figure size 432x288 with 1 Axes>"
            ]
          },
          "metadata": {
            "tags": []
          }
        }
      ]
    },
    {
      "cell_type": "markdown",
      "metadata": {
        "id": "lyN3U1_uzbzt",
        "colab_type": "text"
      },
      "source": [
        "## Multi SVM (Just in case we decide to use in the future)"
      ]
    },
    {
      "cell_type": "code",
      "metadata": {
        "id": "D5GNLD8a-xJv",
        "colab_type": "code",
        "colab": {}
      },
      "source": [
        "X = dfv3.drop(['combined_level','severity_level'], axis=1)\n",
        "y = dfv3['severity_level']"
      ],
      "execution_count": 0,
      "outputs": []
    },
    {
      "cell_type": "code",
      "metadata": {
        "id": "K2SafkAw_R7p",
        "colab_type": "code",
        "colab": {}
      },
      "source": [
        "X_train, X_test, y_train, y_test = train_test_split(X, y, test_size=0.33, random_state=42)"
      ],
      "execution_count": 0,
      "outputs": []
    },
    {
      "cell_type": "code",
      "metadata": {
        "id": "jt0Sx32p_Ws3",
        "colab_type": "code",
        "outputId": "101b33ee-5258-4308-d37d-37a6246f5e1e",
        "colab": {
          "base_uri": "https://localhost:8080/",
          "height": 151
        }
      },
      "source": [
        "rf.fit(X_train, y_train)"
      ],
      "execution_count": 0,
      "outputs": [
        {
          "output_type": "execute_result",
          "data": {
            "text/plain": [
              "RandomForestClassifier(bootstrap=True, ccp_alpha=0.0, class_weight=None,\n",
              "                       criterion='gini', max_depth=None, max_features='auto',\n",
              "                       max_leaf_nodes=None, max_samples=None,\n",
              "                       min_impurity_decrease=0.0, min_impurity_split=None,\n",
              "                       min_samples_leaf=1, min_samples_split=2,\n",
              "                       min_weight_fraction_leaf=0.0, n_estimators=100,\n",
              "                       n_jobs=None, oob_score=False, random_state=42, verbose=0,\n",
              "                       warm_start=False)"
            ]
          },
          "metadata": {
            "tags": []
          },
          "execution_count": 33
        }
      ]
    },
    {
      "cell_type": "code",
      "metadata": {
        "id": "kkdFwP6T_cua",
        "colab_type": "code",
        "colab": {}
      },
      "source": [
        "y_pred_mult = rf.predict(X_test)"
      ],
      "execution_count": 0,
      "outputs": []
    },
    {
      "cell_type": "code",
      "metadata": {
        "id": "8_6yuWjw_hOf",
        "colab_type": "code",
        "outputId": "b43ee451-f9d8-4dff-ed7d-568933fafeb6",
        "colab": {
          "base_uri": "https://localhost:8080/",
          "height": 34
        }
      },
      "source": [
        "accuracy_score(y_test, y_pred_mult)"
      ],
      "execution_count": 0,
      "outputs": [
        {
          "output_type": "execute_result",
          "data": {
            "text/plain": [
              "0.6082474226804123"
            ]
          },
          "metadata": {
            "tags": []
          },
          "execution_count": 36
        }
      ]
    },
    {
      "cell_type": "code",
      "metadata": {
        "id": "NkRM3r6O_ocj",
        "colab_type": "code",
        "colab": {}
      },
      "source": [
        "svm = SVC()"
      ],
      "execution_count": 0,
      "outputs": []
    },
    {
      "cell_type": "code",
      "metadata": {
        "id": "SlLzS6e__uNv",
        "colab_type": "code",
        "outputId": "7981b092-a3d1-4c36-ec64-1becf279a25b",
        "colab": {
          "base_uri": "https://localhost:8080/",
          "height": 84
        }
      },
      "source": [
        "svm.fit(X_train, y_train)"
      ],
      "execution_count": 0,
      "outputs": [
        {
          "output_type": "execute_result",
          "data": {
            "text/plain": [
              "SVC(C=1.0, break_ties=False, cache_size=200, class_weight=None, coef0=0.0,\n",
              "    decision_function_shape='ovr', degree=3, gamma='scale', kernel='rbf',\n",
              "    max_iter=-1, probability=False, random_state=None, shrinking=True,\n",
              "    tol=0.001, verbose=False)"
            ]
          },
          "metadata": {
            "tags": []
          },
          "execution_count": 38
        }
      ]
    },
    {
      "cell_type": "code",
      "metadata": {
        "id": "MB-O7Ndl_xIc",
        "colab_type": "code",
        "colab": {}
      },
      "source": [
        "y_pred_mult = svm.predict(X_test)"
      ],
      "execution_count": 0,
      "outputs": []
    },
    {
      "cell_type": "code",
      "metadata": {
        "id": "zEd7SwJQ_6uF",
        "colab_type": "code",
        "outputId": "63d051d6-87af-47c6-d48a-0946031c243a",
        "colab": {
          "base_uri": "https://localhost:8080/",
          "height": 34
        }
      },
      "source": [
        "accuracy_score(y_test, y_pred_mult)"
      ],
      "execution_count": 0,
      "outputs": [
        {
          "output_type": "execute_result",
          "data": {
            "text/plain": [
              "0.6597938144329897"
            ]
          },
          "metadata": {
            "tags": []
          },
          "execution_count": 41
        }
      ]
    },
    {
      "cell_type": "code",
      "metadata": {
        "id": "VuSXWu0XAqf8",
        "colab_type": "code",
        "outputId": "1de9f755-a8ad-491c-e12a-e778a3b3c753",
        "colab": {
          "base_uri": "https://localhost:8080/",
          "height": 101
        }
      },
      "source": [
        "confusion_matrix(y_test, y_pred_mult)"
      ],
      "execution_count": 0,
      "outputs": [
        {
          "output_type": "execute_result",
          "data": {
            "text/plain": [
              "array([[ 2,  0,  8,  0,  4],\n",
              "       [ 0,  0,  1,  0,  2],\n",
              "       [ 5,  0, 12,  0,  5],\n",
              "       [ 0,  0,  0,  0,  1],\n",
              "       [ 0,  0,  7,  0, 50]])"
            ]
          },
          "metadata": {
            "tags": []
          },
          "execution_count": 43
        }
      ]
    },
    {
      "cell_type": "markdown",
      "metadata": {
        "id": "ZA0T5RTdU7d0",
        "colab_type": "text"
      },
      "source": [
        "The codes are still raw. DON'T RUN"
      ]
    },
    {
      "cell_type": "code",
      "metadata": {
        "id": "z9a28KYFlSaV",
        "colab_type": "code",
        "colab": {}
      },
      "source": [
        "lb = LabelBinarizer()\n",
        "y_lb = lb.fit_transform(y)\n",
        "# yp_lb = lb.transform(y_pred)"
      ],
      "execution_count": 0,
      "outputs": []
    },
    {
      "cell_type": "code",
      "metadata": {
        "id": "ClAApLXLsyFd",
        "colab_type": "code",
        "colab": {}
      },
      "source": [
        "X_train, X_test, y_train, y_test = train_test_split(X, y_lb, test_size=0.3, random_state=42)"
      ],
      "execution_count": 0,
      "outputs": []
    },
    {
      "cell_type": "code",
      "metadata": {
        "id": "J6zivOvosRI2",
        "colab_type": "code",
        "colab": {}
      },
      "source": [
        "classifier = OneVsRestClassifier(SVC(kernel='linear',\n",
        "                                 random_state=42))\n",
        "y_score = classifier.fit(X_train, y_train).decision_function(X_test)"
      ],
      "execution_count": 0,
      "outputs": []
    },
    {
      "cell_type": "code",
      "metadata": {
        "id": "n-Scq3nwtU0N",
        "colab_type": "code",
        "colab": {}
      },
      "source": [
        "y_pred = classifier.predict(X_test)"
      ],
      "execution_count": 0,
      "outputs": []
    },
    {
      "cell_type": "code",
      "metadata": {
        "id": "RVv6o9eTteGr",
        "colab_type": "code",
        "outputId": "42ec181d-7c76-40da-8d82-de32aed6c54b",
        "colab": {
          "base_uri": "https://localhost:8080/",
          "height": 34
        }
      },
      "source": [
        "accuracy_score(y_test, y_pred)"
      ],
      "execution_count": 0,
      "outputs": [
        {
          "output_type": "execute_result",
          "data": {
            "text/plain": [
              "0.6363636363636364"
            ]
          },
          "metadata": {
            "tags": []
          },
          "execution_count": 203
        }
      ]
    },
    {
      "cell_type": "code",
      "metadata": {
        "id": "cG3YHtz2t4PJ",
        "colab_type": "code",
        "outputId": "f5532699-1a4a-4a90-c4f1-f07852f40aa9",
        "colab": {
          "base_uri": "https://localhost:8080/",
          "height": 67
        }
      },
      "source": [
        "confusion_matrix(y_test.argmax(axis=1), y_pred.argmax(axis=1))"
      ],
      "execution_count": 0,
      "outputs": [
        {
          "output_type": "execute_result",
          "data": {
            "text/plain": [
              "array([[ 4,  4,  4],\n",
              "       [10, 10,  2],\n",
              "       [ 6,  3, 45]])"
            ]
          },
          "metadata": {
            "tags": []
          },
          "execution_count": 204
        }
      ]
    },
    {
      "cell_type": "code",
      "metadata": {
        "id": "L20ad_YrtlxX",
        "colab_type": "code",
        "outputId": "862cb764-dd43-48b8-c5a4-d2c9230c414d",
        "colab": {
          "base_uri": "https://localhost:8080/",
          "height": 255
        }
      },
      "source": [
        "print(classification_report(y_test, y_pred))"
      ],
      "execution_count": 0,
      "outputs": [
        {
          "output_type": "stream",
          "text": [
            "              precision    recall  f1-score   support\n",
            "\n",
            "           0       0.17      0.08      0.11        12\n",
            "           1       0.59      0.45      0.51        22\n",
            "           2       0.88      0.83      0.86        54\n",
            "\n",
            "   micro avg       0.76      0.64      0.69        88\n",
            "   macro avg       0.55      0.46      0.49        88\n",
            "weighted avg       0.71      0.64      0.67        88\n",
            " samples avg       0.64      0.64      0.64        88\n",
            "\n"
          ],
          "name": "stdout"
        },
        {
          "output_type": "stream",
          "text": [
            "/usr/local/lib/python3.6/dist-packages/sklearn/metrics/_classification.py:1272: UndefinedMetricWarning: Precision and F-score are ill-defined and being set to 0.0 in samples with no predicted labels. Use `zero_division` parameter to control this behavior.\n",
            "  _warn_prf(average, modifier, msg_start, len(result))\n"
          ],
          "name": "stderr"
        }
      ]
    },
    {
      "cell_type": "code",
      "metadata": {
        "id": "pPiraqAYtKsU",
        "colab_type": "code",
        "outputId": "e354638e-c208-43e2-dfb3-6b6f722640cd",
        "colab": {
          "base_uri": "https://localhost:8080/",
          "height": 34
        }
      },
      "source": [
        "roc_auc_score(y_test, y_score)"
      ],
      "execution_count": 0,
      "outputs": [
        {
          "output_type": "execute_result",
          "data": {
            "text/plain": [
              "0.7600704187479447"
            ]
          },
          "metadata": {
            "tags": []
          },
          "execution_count": 206
        }
      ]
    }
  ]
}